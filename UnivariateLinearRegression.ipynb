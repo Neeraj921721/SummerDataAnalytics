{
 "cells": [
  {
   "cell_type": "code",
   "execution_count": 7,
   "metadata": {},
   "outputs": [
    {
     "name": "stdout",
     "output_type": "stream",
     "text": [
      "theta_0 :  103.10596026489739\n",
      "theta_1 :  -1.751287711552276\n"
     ]
    },
    {
     "data": {
      "image/png": "[encoded data removed]",
      "text/plain": [
       "<Figure size 432x288 with 1 Axes>"
      ]
     },
     "metadata": {
      "needs_background": "light"
     },
     "output_type": "display_data"
    },
    {
     "name": "stdout",
     "output_type": "stream",
     "text": [
      "predict of val {4} =  96.10080941868829\n"
     ]
    }
   ],
   "source": [
    "import numpy as np\n",
    "import matplotlib.pyplot as plt\n",
    "X = np.array([5,7,8,7,2,17,2,9,4,11,12,9,6])\n",
    "y = np.array([99,86,87,88,111,86,103,87,94,78,77,85,86])\n",
    "\n",
    "alpha=0.01\n",
    "itr=100000\n",
    "\n",
    "def hypothesis(x,theta_0,theta_1):\n",
    "    return theta_0+theta_1*x\n",
    "    \n",
    "def cost(x,y,theta_0,theta_1) :\n",
    "    m=float(x.shape[0])\n",
    "    sum=0\n",
    "    for (xi,yi) in zip(x,y):\n",
    "        sum = sum + ((hypothesis(xi,theta_0,theta_1)-yi)*(hypothesis(xi,theta_0,theta_1)-yi))\n",
    "    return (1.0/(2.0*m))*sum\n",
    "    \n",
    "def grd_descent(x,y,theta_0,theta_1):\n",
    "    m=float(x.shape[0])\n",
    "    sum_0=0.0\n",
    "    sum_1=0.0\n",
    "    for (xi,yi) in zip(x,y):\n",
    "        sum_0 = sum_0 + (hypothesis(xi,theta_0,theta_1)-yi)\n",
    "    for (xi,yi) in zip(x,y):\n",
    "        sum_1 = sum_1 + (hypothesis(xi,theta_0,theta_1)-yi)*xi\n",
    "        \n",
    "    theta_0=theta_0-((alpha*sum_0)/m)\n",
    "    theta_1=theta_1-((alpha*sum_1)/m)\n",
    "    return theta_0,theta_1\n",
    "    \n",
    "theta_0=0.00\n",
    "theta_1=-1.00\n",
    "for i in range(0,itr): \n",
    "    cost(X,y,theta_0,theta_1)\n",
    "    theta_0,theta_1=grd_descent(X,y,theta_0,theta_1)\n",
    "\n",
    "print('theta_0 : ',theta_0)\n",
    "print('theta_1 : ',theta_1)\n",
    "\n",
    "model = theta_0+theta_1*X\n",
    "\n",
    "plt.scatter(X,y)\n",
    "plt.plot(X,model)\n",
    "plt.show()\n",
    "\n",
    "def predict(x):\n",
    "    return theta_0+theta_1*x\n",
    "\n",
    "yy=predict(4)\n",
    "print(\"predict of val 4 = \",yy)"
   ]
  },
  {
   "cell_type": "code",
   "execution_count": null,
   "metadata": {},
   "outputs": [],
   "source": []
  }
 ],
 "metadata": {
  "kernelspec": {
   "display_name": "Python 3",
   "language": "python",
   "name": "python3"
  },
  "language_info": {
   "codemirror_mode": {
    "name": "ipython",
    "version": 3
   },
   "file_extension": ".py",
   "mimetype": "text/x-python",
   "name": "python",
   "nbconvert_exporter": "python",
   "pygments_lexer": "ipython3",
   "version": "3.7.4"
  }
 },
 "nbformat": 4,
 "nbformat_minor": 2
}
