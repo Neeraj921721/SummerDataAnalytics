{
 "cells": [
  {
   "cell_type": "code",
   "execution_count": 5,
   "metadata": {},
   "outputs": [],
   "source": [
    "import numpy as np\n",
    "\n",
    "a = np.array([[1,2,3,4],[4,5,6,7]])"
   ]
  },
  {
   "cell_type": "code",
   "execution_count": 7,
   "metadata": {},
   "outputs": [
    {
     "data": {
      "text/plain": [
       "array([[1, 2, 3, 4],\n",
       "       [4, 5, 6, 7]])"
      ]
     },
     "execution_count": 7,
     "metadata": {},
     "output_type": "execute_result"
    }
   ],
   "source": [
    "a"
   ]
  },
  {
   "cell_type": "markdown",
   "metadata": {},
   "source": [
    "<b>Dimensions Of the array</b>"
   ]
  },
  {
   "cell_type": "code",
   "execution_count": 9,
   "metadata": {},
   "outputs": [
    {
     "data": {
      "text/plain": [
       "2"
      ]
     },
     "execution_count": 9,
     "metadata": {},
     "output_type": "execute_result"
    }
   ],
   "source": [
    "a.ndim"
   ]
  },
  {
   "cell_type": "markdown",
   "metadata": {},
   "source": [
    "<b>Shape Of the array</b>"
   ]
  },
  {
   "cell_type": "code",
   "execution_count": 14,
   "metadata": {},
   "outputs": [
    {
     "name": "stdout",
     "output_type": "stream",
     "text": [
      "Shape of the array =  (2, 4)\n",
      "Number of rows =  2\n",
      "Number of columns =  4\n"
     ]
    }
   ],
   "source": [
    "print( \"Shape of the array = \" , a.shape)\n",
    "print( 'Number of rows = ' , a.shape[0])\n",
    "print( 'Number of columns = ' , a.shape[1])"
   ]
  },
  {
   "cell_type": "markdown",
   "metadata": {},
   "source": [
    "<b>Initialising Array</b>"
   ]
  },
  {
   "cell_type": "code",
   "execution_count": 59,
   "metadata": {},
   "outputs": [
    {
     "data": {
      "text/plain": [
       "array([10, 12, 14, 16, 18])"
      ]
     },
     "execution_count": 59,
     "metadata": {},
     "output_type": "execute_result"
    }
   ],
   "source": [
    "rows = 3\n",
    "cols = 5\n",
    "\n",
    "a = np.ones( (rows,cols) , dtype='int8' )\n",
    "a.dtype     # data type of the array passing dtype is optional\n",
    "\n",
    "a = np.zeros( (rows,cols) ,dtype='complex' )\n",
    "a.dtype\n",
    "\n",
    "a = np.arange(10,20,2,dtype='int64')    # start , end ,stepsize , dtype\n",
    "a"
   ]
  },
  {
   "cell_type": "markdown",
   "metadata": {},
   "source": [
    "<b>Generating n numbers between given two numbers</b>"
   ]
  },
  {
   "cell_type": "code",
   "execution_count": 69,
   "metadata": {},
   "outputs": [
    {
     "data": {
      "text/plain": [
       "array([1.  , 1.25, 1.5 , 1.75, 2.  ], dtype=float128)"
      ]
     },
     "execution_count": 69,
     "metadata": {},
     "output_type": "execute_result"
    }
   ],
   "source": [
    "a = np.linspace( 0.01 , 0.02  , 10 )  # start , end  , number of numbers \n",
    "a  \n",
    "\n",
    "b = np.linspace( 1 , 2 , 5 , dtype='float128' )\n",
    "b"
   ]
  },
  {
   "cell_type": "markdown",
   "metadata": {},
   "source": [
    "<b>Import Methods for array manipulation</b>"
   ]
  },
  {
   "cell_type": "code",
   "execution_count": 98,
   "metadata": {},
   "outputs": [
    {
     "name": "stdout",
     "output_type": "stream",
     "text": [
      "Array a = \n",
      " [[1. 1. 1. 1.]\n",
      " [1. 1. 1. 1.]\n",
      " [1. 1. 1. 1.]]\n",
      "Array b = \n",
      " [[1. 1.]\n",
      " [1. 1.]\n",
      " [1. 1.]\n",
      " [1. 1.]\n",
      " [1. 1.]\n",
      " [1. 1.]]\n",
      "Array c = \n",
      " [1. 1. 1. 1. 1. 1. 1. 1. 1. 1. 1. 1.]\n"
     ]
    },
    {
     "data": {
      "text/plain": [
       "array([[1., 1., 1.],\n",
       "       [1., 1., 1.],\n",
       "       [1., 1., 1.],\n",
       "       [1., 1., 1.]])"
      ]
     },
     "execution_count": 98,
     "metadata": {},
     "output_type": "execute_result"
    }
   ],
   "source": [
    "a = np.ones((3,4))\n",
    "print( 'Array a = \\n' , a)\n",
    "\n",
    "# Reshape the array\n",
    "b = a.reshape((6,2))\n",
    "print('Array b = \\n',b)\n",
    "# Flatten the array\n",
    "c = a.ravel()\n",
    "print('Array c = \\n',c)\n",
    "\n",
    "a.reshape((4,3))"
   ]
  },
  {
   "cell_type": "markdown",
   "metadata": {},
   "source": [
    "<b>Important methods to extract info</b>"
   ]
  },
  {
   "cell_type": "code",
   "execution_count": 140,
   "metadata": {},
   "outputs": [
    {
     "name": "stdout",
     "output_type": "stream",
     "text": [
      "Array A = \n",
      " [[ 1  2  3  4]\n",
      " [ 5  6  7  8]\n",
      " [ 9 10 11 12]]\n",
      "Min = 1\n",
      "Max = 12\n",
      "Sum of the array elements = 78\n",
      "Standard Deviation  = 3.452052529534663\n",
      "Mean = 6.5\n",
      "Square root : \n",
      " [[1.         1.41421356 1.73205081 2.        ]\n",
      " [2.23606798 2.44948974 2.64575131 2.82842712]\n",
      " [3.         3.16227766 3.31662479 3.46410162]]\n"
     ]
    }
   ],
   "source": [
    "a = np.arange( 1 , 13 )  \n",
    "a = a.reshape((3,4))\n",
    "print('Array A = \\n',a)\n",
    "\n",
    "print('Min = ' + str(a.min()))\n",
    "print('Max = ' + str(a.max()))\n",
    "print('Sum of the array elements = ' + str(a.sum()))\n",
    "print('Standard Deviation  = ' + str(np.std(a)))\n",
    "print('Mean = ' + str(np.mean(a)))\n",
    "print('Square root : \\n',np.sqrt(a))\n"
   ]
  },
  {
   "cell_type": "markdown",
   "metadata": {},
   "source": [
    "<b>Rowwise and ColumnWise Sum . Remember that axis=0 corresponds to column and axis=1 corresponds to row</b>"
   ]
  },
  {
   "cell_type": "code",
   "execution_count": 128,
   "metadata": {},
   "outputs": [
    {
     "name": "stdout",
     "output_type": "stream",
     "text": [
      "[[ 1  2  3  4  5]\n",
      " [ 6  7  8  9 10]\n",
      " [11 12 13 14 15]\n",
      " [16 17 18 19 20]]\n",
      "\n",
      "Column Wise sum = [34 38 42 46 50]\n",
      "Row Wise sum = [15 40 65 90]\n"
     ]
    }
   ],
   "source": [
    "a = np.arange(1,21)\n",
    "a = a.reshape((4,5))\n",
    "\n",
    "print(a)\n",
    "\n",
    "colsum = a.sum(axis=0)\n",
    "print('\\nColumn Wise sum = ' + str(colsum))\n",
    "\n",
    "rowsum = a.sum(axis=1)\n",
    "print('Row Wise sum = ' + str(rowsum))"
   ]
  },
  {
   "cell_type": "markdown",
   "metadata": {},
   "source": [
    "<b>3-d Array </b>"
   ]
  },
  {
   "cell_type": "code",
   "execution_count": 134,
   "metadata": {},
   "outputs": [
    {
     "data": {
      "text/plain": [
       "array([[ 3,  7],\n",
       "       [11, 15]])"
      ]
     },
     "execution_count": 134,
     "metadata": {},
     "output_type": "execute_result"
    }
   ],
   "source": [
    "a = np.array(\n",
    "    [\n",
    "        [[1,2],\n",
    "        [3,4]],\n",
    "        \n",
    "        [[5,6],\n",
    "        [7,8]]\n",
    "    ]\n",
    ")\n",
    "a.sum(axis=0)\n",
    "a.sum(axis=1)\n",
    "a.sum(axis=2)\n"
   ]
  },
  {
   "cell_type": "markdown",
   "metadata": {},
   "source": [
    "<b>Some Numerical Stuff</b>"
   ]
  },
  {
   "cell_type": "code",
   "execution_count": 156,
   "metadata": {},
   "outputs": [
    {
     "data": {
      "text/plain": [
       "array([[10., 10., 10., 10., 10.],\n",
       "       [26., 26., 26., 26., 26.],\n",
       "       [42., 42., 42., 42., 42.],\n",
       "       [58., 58., 58., 58., 58.],\n",
       "       [74., 74., 74., 74., 74.]])"
      ]
     },
     "execution_count": 156,
     "metadata": {},
     "output_type": "execute_result"
    }
   ],
   "source": [
    "a = np.arange(1,21)\n",
    "a = a.reshape(5,4)\n",
    "b = np.ones((5,4))\n",
    "\n",
    "c = a + b\n",
    "c\n",
    "\n",
    "d = a * b\n",
    "d\n",
    "\n",
    "e = a / b\n",
    "e\n",
    "\n",
    "matrix_product = a.dot(b.reshape(4,5))\n",
    "matrix_product"
   ]
  }
 ],
 "metadata": {
  "kernelspec": {
   "display_name": "Python 3",
   "language": "python",
   "name": "python3"
  },
  "language_info": {
   "codemirror_mode": {
    "name": "ipython",
    "version": 3
   },
   "file_extension": ".py",
   "mimetype": "text/x-python",
   "name": "python",
   "nbconvert_exporter": "python",
   "pygments_lexer": "ipython3",
   "version": "3.7.4"
  }
 },
 "nbformat": 4,
 "nbformat_minor": 2
}
