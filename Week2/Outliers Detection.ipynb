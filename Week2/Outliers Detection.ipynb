{
 "cells": [
  {
   "cell_type": "markdown",
   "metadata": {},
   "source": [
    "### What is an outlier?\n",
    "An outlier is a data point in a data set that is distant from all other observations. A data point that lies outside the overall distribution of the dataset."
   ]
  },
  {
   "cell_type": "code",
   "execution_count": 2,
   "metadata": {},
   "outputs": [],
   "source": [
    "import numpy as np\n",
    "import matplotlib.pyplot as plt\n",
    "%matplotlib inline"
   ]
  },
  {
   "cell_type": "markdown",
   "metadata": {},
   "source": [
    "### What are the criteria to identify an outlier?\n",
    "\n",
    "1. Data point that falls outside of 1.5 times of an interquartile range above the 3rd quartile and below the 1st quartile\n",
    "2. Data point that falls outside of 3 standard deviations. we can use a z score and if the z score falls outside of 2 standard deviation\n",
    "\n",
    "### What is the reason for an outlier to exists in a dataset?\n",
    "\n",
    "1. Variability in the data\n",
    "2. An experimental measurement error\n",
    "\n",
    "### What are the impacts of having outliers in a dataset?\n",
    "\n",
    "1. It causes various problems during our statistical analysis\n",
    "2. It may cause a significant impact on the mean and the standard deviation\n",
    "\n",
    "### Various ways of finding the outlier.\n",
    "1. Using scatter plots\n",
    "2. Box plot\n",
    "3. using z score\n",
    "4. using the IQR interquantile range\n",
    "\n"
   ]
  },
  {
   "cell_type": "code",
   "execution_count": 4,
   "metadata": {},
   "outputs": [],
   "source": [
    "# data set\n",
    "dataset= [11,10,12,14,12,15,14,13,15,102,12,14,17,19,107, 10,13,12,14,12,108,12,11,14,13,15,10,15,12,10,14,13,15,10]"
   ]
  },
  {
   "cell_type": "markdown",
   "metadata": {},
   "source": [
    "## Detecting outlier using Z score\n",
    "\n",
    "### Using Z score\n",
    "\n",
    "Formula for Z score = (Observation — Mean)/Standard Deviation\n",
    "\n",
    "z = (X — μ) / σ"
   ]
  },
  {
   "cell_type": "code",
   "execution_count": 11,
   "metadata": {},
   "outputs": [
    {
     "name": "stdout",
     "output_type": "stream",
     "text": [
      "mean of the data = 21.176470588235293\n",
      "standard deviation of the data = 26.37230118696876\n",
      "-0.38587723217963826\n",
      "-0.4237958041279264\n",
      "-0.3479586602313501\n",
      "-0.27212151633477377\n",
      "-0.3479586602313501\n",
      "-0.23420294438648565\n",
      "-0.27212151633477377\n",
      "-0.31004008828306195\n",
      "-0.23420294438648565\n",
      "3.064712815114584\n",
      "-0.3479586602313501\n",
      "-0.27212151633477377\n",
      "-0.15836580048990934\n",
      "-0.08252865659333301\n",
      "3.254305674856025\n",
      "-0.4237958041279264\n",
      "-0.31004008828306195\n",
      "-0.3479586602313501\n",
      "-0.27212151633477377\n",
      "-0.3479586602313501\n",
      "3.292224246804313\n",
      "-0.3479586602313501\n",
      "-0.38587723217963826\n",
      "-0.27212151633477377\n",
      "-0.31004008828306195\n",
      "-0.23420294438648565\n",
      "-0.4237958041279264\n",
      "-0.23420294438648565\n",
      "-0.3479586602313501\n",
      "-0.4237958041279264\n",
      "-0.27212151633477377\n",
      "-0.31004008828306195\n",
      "-0.23420294438648565\n",
      "-0.4237958041279264\n",
      "Outliers ->  [102, 107, 108]\n"
     ]
    }
   ],
   "source": [
    "def getOutliers(dataset):\n",
    "    outliers = []\n",
    "    \n",
    "    mew = np.mean(dataset)\n",
    "    sigma = np.std(dataset)\n",
    "    print('mean of the data = ' + str(mew))\n",
    "    print('standard deviation of the data = ' + str(sigma))\n",
    "    \n",
    "    threshold = 3\n",
    "    \n",
    "    for x in dataset:\n",
    "        z = (x-mew)/sigma\n",
    "        print(z)\n",
    "        if np.abs(z) > threshold:\n",
    "            outliers.append(x)\n",
    "    return outliers\n",
    "\n",
    "outliersItems = getOutliers(dataset)\n",
    "print('Outliers -> ' , outliersItems)"
   ]
  },
  {
   "cell_type": "markdown",
   "metadata": {},
   "source": [
    "### To Calculate any percentile of the dataset : <br>\n",
    "<b>qth_percentile = qth% * len(dataset)</b>   -> this gives the index <br> \n",
    "element = dataset(qth_percentile)"
   ]
  },
  {
   "cell_type": "code",
   "execution_count": 18,
   "metadata": {},
   "outputs": [
    {
     "data": {
      "text/plain": [
       "15"
      ]
     },
     "execution_count": 18,
     "metadata": {},
     "output_type": "execute_result"
    }
   ],
   "source": [
    "dataset.sort()\n",
    "\n",
    "n = len(dataset)\n",
    "q1=int(n*0.25)   # 25th percentile\n",
    "dataset[q1]\n",
    "q3=int(n*0.75)   # 75th percentile\n",
    "dataset[q3]"
   ]
  },
  {
   "cell_type": "markdown",
   "metadata": {},
   "source": [
    "## InterQuartile Range\n",
    "[75%- 25% values ] in a dataset<br>\n",
    "Steps :\n",
    "1. Sort the data in increasing order\n",
    "2. Calculate first_quartile(q1) and third quartile(q3)\n",
    "3. Find interquartile range iqr=(q3-q1)\n",
    "4. Find lower bound (q1 - 1.5*iqr )\n",
    "5. Find upper bound (q3 + 1.5*iqr )<br>\n",
    "   Anything that lies outside of lower and upper bound is an outlier."
   ]
  },
  {
   "cell_type": "code",
   "execution_count": 28,
   "metadata": {},
   "outputs": [
    {
     "name": "stdout",
     "output_type": "stream",
     "text": [
      "25th percentile of the dataset = 12.0\n",
      "75th percentile of the dataset = 15.0\n",
      "Inter Quartile Range = 3.0\n",
      "Bound of the data  [7.5, 19.5]\n",
      "Outliers --> [102, 107, 108]\n"
     ]
    }
   ],
   "source": [
    "dataset.sort()\n",
    "\n",
    "q1_quartile,q3_quartile = np.percentile(dataset,[25,75])\n",
    "print('25th percentile of the dataset = ' + str(q1_quartile))\n",
    "print('75th percentile of the dataset = ' + str(q3_quartile))\n",
    "\n",
    "iqr = q3_quartile - q1_quartile\n",
    "\n",
    "print('Inter Quartile Range = ' + str(iqr))\n",
    "\n",
    "lower_bound = q1_quartile - iqr*1.5\n",
    "upper_bound = q3_quartile + iqr*1.5\n",
    "\n",
    "data_bound = []\n",
    "data_bound.append(lower_bound)\n",
    "data_bound.append(upper_bound)\n",
    "print('Bound of the data ',data_bound)\n",
    "\n",
    "outliers = []\n",
    "outliers = [x for x in dataset if x > upper_bound or x < lower_bound]\n",
    "print('Outliers -->' , outliers)"
   ]
  },
  {
   "cell_type": "code",
   "execution_count": null,
   "metadata": {},
   "outputs": [],
   "source": []
  },
  {
   "cell_type": "code",
   "execution_count": null,
   "metadata": {},
   "outputs": [],
   "source": []
  },
  {
   "cell_type": "code",
   "execution_count": null,
   "metadata": {},
   "outputs": [],
   "source": []
  }
 ],
 "metadata": {
  "kernelspec": {
   "display_name": "Python 3",
   "language": "python",
   "name": "python3"
  },
  "language_info": {
   "codemirror_mode": {
    "name": "ipython",
    "version": 3
   },
   "file_extension": ".py",
   "mimetype": "text/x-python",
   "name": "python",
   "nbconvert_exporter": "python",
   "pygments_lexer": "ipython3",
   "version": "3.7.4"
  }
 },
 "nbformat": 4,
 "nbformat_minor": 2
}
